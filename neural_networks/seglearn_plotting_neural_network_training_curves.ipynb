{
 "cells": [
  {
   "cell_type": "markdown",
   "metadata": {},
   "source": [
    "# [Plotting Neural Network Training Curves](https://github.com/dmbee/seglearn/blob/master/examples/plot_nn_training_curves.py)\n",
    "\n",
    "This is a basic example using a convolutional recurrent neural network to learn segments directly from time series data.\n",
    "\n",
    "**Author:** David Burns\n",
    "\n",
    "**Modifications:** Alex Araujo\n",
    "\n",
    "**License**: BSD"
   ]
  },
  {
   "cell_type": "code",
   "execution_count": 1,
   "metadata": {},
   "outputs": [],
   "source": [
    "%load_ext autoreload\n",
    "%autoreload 2"
   ]
  },
  {
   "cell_type": "code",
   "execution_count": 2,
   "metadata": {},
   "outputs": [],
   "source": [
    "import warnings\n",
    "warnings.filterwarnings(\"ignore\")"
   ]
  },
  {
   "cell_type": "code",
   "execution_count": 3,
   "metadata": {},
   "outputs": [
    {
     "name": "stderr",
     "output_type": "stream",
     "text": [
      "Using TensorFlow backend.\n"
     ]
    }
   ],
   "source": [
    "# Load packages.\n",
    "import numpy as np\n",
    "import matplotlib.pyplot as plt\n",
    "\n",
    "from pandas import DataFrame\n",
    "\n",
    "from seglearn.datasets import load_watch\n",
    "from seglearn.pipe import Pype\n",
    "from seglearn.transform import SegmentX\n",
    "\n",
    "from sklearn.model_selection import train_test_split\n",
    "\n",
    "from keras.layers import Dense, LSTM, Conv1D, BatchNormalization\n",
    "from keras.models import Sequential\n",
    "from keras.wrappers.scikit_learn import KerasClassifier\n",
    "from keras.utils import plot_model\n",
    "\n",
    "%matplotlib inline"
   ]
  },
  {
   "cell_type": "code",
   "execution_count": 4,
   "metadata": {},
   "outputs": [],
   "source": [
    "# Simple neural network model.\n",
    "def crnn_model(width=100,\n",
    "               n_vars=6,\n",
    "               n_classes=7,\n",
    "               conv_kernel_size=5,\n",
    "               conv_filters=10,\n",
    "               lstm_units=10):\n",
    "    \n",
    "    # Archtecture.\n",
    "    input_shape = (width, n_vars)\n",
    "    model = Sequential()\n",
    "    model.add(Conv1D(filters=conv_filters,\n",
    "                     kernel_size=conv_kernel_size,\n",
    "                     padding=\"valid\",\n",
    "                     activation=\"relu\",\n",
    "                     input_shape=input_shape))\n",
    "    model.add(LSTM(units=lstm_units,\n",
    "                   dropout=0.1,\n",
    "                   recurrent_dropout=0.1))\n",
    "    model.add(Dense(units=n_classes,\n",
    "                    activation=\"softmax\"))\n",
    "    \n",
    "    # Compilation.\n",
    "    model.compile(loss=\"categorical_crossentropy\",\n",
    "                  optimizer=\"adam\",\n",
    "                  metrics=[\"accuracy\"])\n",
    "\n",
    "    print(\">>> Input:\", model.input)\n",
    "    \n",
    "    return model"
   ]
  },
  {
   "cell_type": "code",
   "execution_count": 5,
   "metadata": {},
   "outputs": [],
   "source": [
    "# Modification of the previous simple neural network model.\n",
    "def crnn_model_v2(width=100,\n",
    "                  n_features=6,\n",
    "                  n_classes=7,\n",
    "                  conv_kernel_size=10,\n",
    "                  conv_filters=20,\n",
    "                  lstm_units=10):\n",
    "    \n",
    "    # Archtecture.\n",
    "    input_shape = (width, n_features)\n",
    "    model = Sequential()\n",
    "    model.add(Conv1D(filters=conv_filters,\n",
    "                     kernel_size=conv_kernel_size,\n",
    "                     padding=\"valid\",\n",
    "                     activation=\"relu\",\n",
    "                     input_shape=input_shape))\n",
    "    model.add(LSTM(units=lstm_units,\n",
    "                   dropout=0.2,\n",
    "                   recurrent_dropout=0.2,\n",
    "                   return_sequences=False))\n",
    "    model.add(BatchNormalization(axis=-1))\n",
    "    model.add(Dense(units=n_classes,\n",
    "                    activation=\"softmax\"))\n",
    "    \n",
    "    # Compilation.\n",
    "    model.compile(loss=\"categorical_crossentropy\",\n",
    "                  optimizer=\"adam\",\n",
    "                  metrics=[\"accuracy\"])\n",
    "\n",
    "    print(\">>> Input:\", model.input)\n",
    "    \n",
    "    return model"
   ]
  },
  {
   "cell_type": "code",
   "execution_count": 6,
   "metadata": {},
   "outputs": [
    {
     "name": "stdout",
     "output_type": "stream",
     "text": [
      "WARNING:tensorflow:From /home/alex/anaconda3/envs/machine36/lib/python3.6/site-packages/keras/backend/tensorflow_backend.py:74: The name tf.get_default_graph is deprecated. Please use tf.compat.v1.get_default_graph instead.\n",
      "\n",
      "WARNING:tensorflow:From /home/alex/anaconda3/envs/machine36/lib/python3.6/site-packages/keras/backend/tensorflow_backend.py:517: The name tf.placeholder is deprecated. Please use tf.compat.v1.placeholder instead.\n",
      "\n",
      "WARNING:tensorflow:From /home/alex/anaconda3/envs/machine36/lib/python3.6/site-packages/keras/backend/tensorflow_backend.py:4138: The name tf.random_uniform is deprecated. Please use tf.random.uniform instead.\n",
      "\n",
      "WARNING:tensorflow:From /home/alex/anaconda3/envs/machine36/lib/python3.6/site-packages/keras/backend/tensorflow_backend.py:133: The name tf.placeholder_with_default is deprecated. Please use tf.compat.v1.placeholder_with_default instead.\n",
      "\n",
      "WARNING:tensorflow:From /home/alex/anaconda3/envs/machine36/lib/python3.6/site-packages/keras/backend/tensorflow_backend.py:3445: calling dropout (from tensorflow.python.ops.nn_ops) with keep_prob is deprecated and will be removed in a future version.\n",
      "Instructions for updating:\n",
      "Please use `rate` instead of `keep_prob`. Rate should be set to `rate = 1 - keep_prob`.\n",
      "WARNING:tensorflow:From /home/alex/anaconda3/envs/machine36/lib/python3.6/site-packages/keras/optimizers.py:790: The name tf.train.Optimizer is deprecated. Please use tf.compat.v1.train.Optimizer instead.\n",
      "\n",
      "WARNING:tensorflow:From /home/alex/anaconda3/envs/machine36/lib/python3.6/site-packages/keras/backend/tensorflow_backend.py:3295: The name tf.log is deprecated. Please use tf.math.log instead.\n",
      "\n",
      ">>> Input: Tensor(\"conv1d_1_input:0\", shape=(?, 100, 6), dtype=float32)\n",
      "_________________________________________________________________\n",
      "Layer (type)                 Output Shape              Param #   \n",
      "=================================================================\n",
      "conv1d_1 (Conv1D)            (None, 96, 10)            310       \n",
      "_________________________________________________________________\n",
      "lstm_1 (LSTM)                (None, 10)                840       \n",
      "_________________________________________________________________\n",
      "dense_1 (Dense)              (None, 7)                 77        \n",
      "=================================================================\n",
      "Total params: 1,227\n",
      "Trainable params: 1,227\n",
      "Non-trainable params: 0\n",
      "_________________________________________________________________\n"
     ]
    }
   ],
   "source": [
    "model = crnn_model()\n",
    "model.summary()"
   ]
  },
  {
   "cell_type": "code",
   "execution_count": 7,
   "metadata": {},
   "outputs": [
    {
     "name": "stdout",
     "output_type": "stream",
     "text": [
      ">>> Input: Tensor(\"conv1d_2_input:0\", shape=(?, 100, 6), dtype=float32)\n",
      "_________________________________________________________________\n",
      "Layer (type)                 Output Shape              Param #   \n",
      "=================================================================\n",
      "conv1d_2 (Conv1D)            (None, 91, 20)            1220      \n",
      "_________________________________________________________________\n",
      "lstm_2 (LSTM)                (None, 10)                1240      \n",
      "_________________________________________________________________\n",
      "batch_normalization_1 (Batch (None, 10)                40        \n",
      "_________________________________________________________________\n",
      "dense_2 (Dense)              (None, 7)                 77        \n",
      "=================================================================\n",
      "Total params: 2,577\n",
      "Trainable params: 2,557\n",
      "Non-trainable params: 20\n",
      "_________________________________________________________________\n"
     ]
    }
   ],
   "source": [
    "model_v2 = crnn_model_v2()\n",
    "model_v2.summary()"
   ]
  },
  {
   "cell_type": "code",
   "execution_count": 8,
   "metadata": {},
   "outputs": [],
   "source": [
    "# Show it.\n",
    "FILE = \"./figures/convolutional_recurrent_neural_network.png\"\n",
    "plot_model(model=model, to_file=FILE, show_shapes=True)"
   ]
  },
  {
   "cell_type": "markdown",
   "metadata": {},
   "source": [
    "![net](./figures/convolutional_recurrent_neural_network.png)"
   ]
  },
  {
   "cell_type": "code",
   "execution_count": 9,
   "metadata": {},
   "outputs": [],
   "source": [
    "# Show it.\n",
    "FILE2 = \"./figures/convolutional_recurrent_neural_network2.png\"\n",
    "plot_model(model=model_v2, to_file=FILE2, show_shapes=True)"
   ]
  },
  {
   "cell_type": "markdown",
   "metadata": {},
   "source": [
    "![net2](./figures/convolutional_recurrent_neural_network2.png)"
   ]
  },
  {
   "cell_type": "code",
   "execution_count": 10,
   "metadata": {},
   "outputs": [],
   "source": [
    "# Load the data.\n",
    "data = load_watch()\n",
    "X = data[\"X\"]\n",
    "Y = data[\"y\"]"
   ]
  },
  {
   "cell_type": "code",
   "execution_count": 11,
   "metadata": {},
   "outputs": [
    {
     "name": "stdout",
     "output_type": "stream",
     "text": [
      ">>> Train\n",
      "* X list len: 105\n",
      "\n",
      ">>> Test\n",
      "* X list len: 35\n"
     ]
    }
   ],
   "source": [
    "# Split the data.\n",
    "X_train, X_test, y_train, y_test = train_test_split(X, Y, test_size=0.25, random_state=42)\n",
    "\n",
    "print(\">>> Train\")\n",
    "print(\"* X list len:\", len(X_train))\n",
    "print(\"\\n>>> Test\")\n",
    "print(\"* X list len:\", len(X_test))"
   ]
  },
  {
   "cell_type": "code",
   "execution_count": 12,
   "metadata": {},
   "outputs": [],
   "source": [
    "# Create a segment learning pipeline.\n",
    "width = 100\n",
    "pipe = Pype([(\"seg\", SegmentX(order=\"C\")),\n",
    "             (\"crnn\", KerasClassifier(build_fn=crnn_model, \n",
    "                                      epochs=500, \n",
    "                                      batch_size=256,\n",
    "                                      verbose=0, \n",
    "                                      validation_split=0.2))])"
   ]
  },
  {
   "cell_type": "code",
   "execution_count": 13,
   "metadata": {},
   "outputs": [],
   "source": [
    "width = 100\n",
    "pipe2 = Pype([(\"seg\", SegmentX(order=\"C\")),\n",
    "              (\"crnn\", KerasClassifier(build_fn=crnn_model_v2, \n",
    "                                       epochs=500, \n",
    "                                       batch_size=256,\n",
    "                                       verbose=0, \n",
    "                                       validation_split=0.2))])"
   ]
  },
  {
   "cell_type": "code",
   "execution_count": 14,
   "metadata": {},
   "outputs": [
    {
     "name": "stdout",
     "output_type": "stream",
     "text": [
      ">>> Input: Tensor(\"conv1d_3_input:0\", shape=(?, 100, 6), dtype=float32)\n",
      "WARNING:tensorflow:From /home/alex/anaconda3/envs/machine36/lib/python3.6/site-packages/tensorflow/python/ops/math_grad.py:1250: add_dispatch_support.<locals>.wrapper (from tensorflow.python.ops.array_ops) is deprecated and will be removed in a future version.\n",
      "Instructions for updating:\n",
      "Use tf.where in 2.0, which has the same broadcast rule as np.where\n",
      "     val_loss   val_acc      loss       acc\n",
      "0    1.989403  0.079545  1.923691  0.164121\n",
      "1    1.971129  0.080966  1.880630  0.204973\n",
      "2    1.950835  0.095170  1.850068  0.225577\n",
      "3    1.938696  0.099432  1.819433  0.251155\n",
      "4    1.919019  0.117898  1.783035  0.271758\n",
      "5    1.885860  0.153409  1.735234  0.284192\n",
      "6    1.841802  0.186080  1.677708  0.324334\n",
      "7    1.803506  0.208807  1.620987  0.363766\n",
      "8    1.764887  0.228693  1.564634  0.391829\n",
      "9    1.722922  0.252841  1.507556  0.428419\n",
      "10   1.612482  0.282670  1.439450  0.456838\n",
      "11   1.532013  0.319602  1.384390  0.490231\n",
      "12   1.479521  0.345170  1.324069  0.522913\n",
      "13   1.382817  0.384943  1.264796  0.542096\n",
      "14   1.323490  0.403409  1.222185  0.561989\n",
      "15   1.284705  0.411932  1.172556  0.576909\n",
      "16   1.203297  0.447443  1.135684  0.596803\n",
      "17   1.170235  0.470170  1.095693  0.607105\n",
      "18   1.127786  0.475852  1.080304  0.601776\n",
      "19   1.050616  0.500000  1.026504  0.615275\n",
      "20   1.043035  0.504261  1.006003  0.620249\n",
      "21   1.024194  0.507102  0.985458  0.619183\n",
      "22   0.951926  0.514205  0.957827  0.617407\n",
      "23   0.995912  0.517045  0.945102  0.629485\n",
      "24   1.019608  0.508523  0.927703  0.623091\n",
      "25   0.939840  0.504261  0.923834  0.628419\n",
      "26   0.884661  0.518466  0.878458  0.638011\n",
      "27   0.936394  0.534091  0.890706  0.631616\n",
      "28   0.999871  0.542614  0.898999  0.647957\n",
      "29   0.878062  0.590909  0.859148  0.647957\n",
      "..        ...       ...       ...       ...\n",
      "470  0.430864  0.859375  0.267271  0.894494\n",
      "471  0.453239  0.843750  0.278853  0.892362\n",
      "472  0.499798  0.835227  0.273945  0.899112\n",
      "473  0.494676  0.832386  0.266364  0.901243\n",
      "474  0.389214  0.860795  0.269499  0.896625\n",
      "475  0.388045  0.856534  0.332427  0.869627\n",
      "476  0.455847  0.838068  0.366267  0.860391\n",
      "477  0.496725  0.830966  0.325817  0.871758\n",
      "478  0.513770  0.832386  0.308779  0.877442\n",
      "479  0.509128  0.836648  0.310649  0.877087\n",
      "480  0.502891  0.843750  0.307371  0.885258\n",
      "481  0.490302  0.845170  0.302086  0.884547\n",
      "482  0.477871  0.853693  0.295203  0.893073\n",
      "483  0.476161  0.852273  0.288191  0.893073\n",
      "484  0.453998  0.860795  0.297214  0.885968\n",
      "485  0.477880  0.849432  0.284742  0.894849\n",
      "486  0.488604  0.849432  0.304366  0.883837\n",
      "487  0.476618  0.853693  0.300523  0.883481\n",
      "488  0.467226  0.849432  0.287280  0.882416\n",
      "489  0.462481  0.856534  0.277632  0.896270\n",
      "490  0.454900  0.859375  0.299077  0.888810\n",
      "491  0.474686  0.852273  0.288713  0.891652\n",
      "492  0.498554  0.845170  0.290186  0.887744\n",
      "493  0.509822  0.839489  0.266140  0.896625\n",
      "494  0.495615  0.840909  0.300564  0.893073\n",
      "495  0.478116  0.850852  0.277372  0.897336\n",
      "496  0.459069  0.856534  0.262711  0.899112\n",
      "497  0.454006  0.853693  0.284822  0.889520\n",
      "498  0.453699  0.857955  0.277608  0.891297\n",
      "499  0.501423  0.840909  0.281554  0.891297\n",
      "\n",
      "[500 rows x 4 columns]\n",
      "CPU times: user 14min 18s, sys: 1min 3s, total: 15min 22s\n",
      "Wall time: 5min 4s\n"
     ]
    }
   ],
   "source": [
    "%%time\n",
    "\n",
    "# This is a bit of a hack, because history object is returned by the keras wrapper when fit is\n",
    "# called. This approach won't work with a more complex estimator pipeline, in which case a \n",
    "# callable class with the desired properties should be made passed to build_fn.\n",
    "pipe.fit(X_train, y_train)\n",
    "print(DataFrame(pipe.history.history))\n",
    "ac_train = pipe.history.history[\"acc\"]\n",
    "ac_val = pipe.history.history[\"val_acc\"]\n",
    "epoch = np.arange(len(ac_train)) + 1"
   ]
  },
  {
   "cell_type": "code",
   "execution_count": 15,
   "metadata": {},
   "outputs": [
    {
     "name": "stdout",
     "output_type": "stream",
     "text": [
      ">>> Input: Tensor(\"conv1d_4_input:0\", shape=(?, 100, 6), dtype=float32)\n",
      "     val_loss   val_acc      loss       acc\n",
      "0    1.839794  0.330966  2.144313  0.202487\n",
      "1    1.713915  0.340909  1.836076  0.279218\n",
      "2    1.632992  0.366477  1.668889  0.336767\n",
      "3    1.566194  0.390625  1.544522  0.368384\n",
      "4    1.511125  0.414773  1.449275  0.397158\n",
      "5    1.462427  0.441761  1.360140  0.434103\n",
      "6    1.408416  0.481534  1.303356  0.448313\n",
      "7    1.363075  0.487216  1.242980  0.483837\n",
      "8    1.323058  0.500000  1.197044  0.495915\n",
      "9    1.259136  0.536932  1.145292  0.509769\n",
      "10   1.250179  0.509943  1.110471  0.554529\n",
      "11   1.225357  0.488636  1.062902  0.567318\n",
      "12   1.193745  0.480114  1.034240  0.561279\n",
      "13   1.139749  0.524148  0.988658  0.601421\n",
      "14   1.091873  0.553977  0.972262  0.581172\n",
      "15   1.080378  0.534091  0.927912  0.604618\n",
      "16   1.055568  0.539773  0.896447  0.619183\n",
      "17   1.024545  0.538352  0.872516  0.619893\n",
      "18   1.031066  0.504261  0.850438  0.621670\n",
      "19   1.004932  0.507102  0.827452  0.640497\n",
      "20   0.967581  0.528409  0.799754  0.643339\n",
      "21   0.929625  0.539773  0.785672  0.640497\n",
      "22   0.912568  0.553977  0.760718  0.659680\n",
      "23   0.908662  0.566761  0.736715  0.663943\n",
      "24   0.865993  0.592330  0.734795  0.658259\n",
      "25   0.855310  0.607955  0.726464  0.661456\n",
      "26   0.843737  0.582386  0.717514  0.661101\n",
      "27   0.873433  0.553977  0.693006  0.688455\n",
      "28   0.848579  0.559659  0.661458  0.692362\n",
      "29   0.847030  0.575284  0.645449  0.696625\n",
      "..        ...       ...       ...       ...\n",
      "470  0.453267  0.879261  0.107607  0.961989\n",
      "471  0.539159  0.852273  0.099956  0.963766\n",
      "472  0.499092  0.855114  0.105843  0.965187\n",
      "473  0.471484  0.867898  0.096584  0.966607\n",
      "474  0.434832  0.879261  0.101996  0.964121\n",
      "475  0.497794  0.870739  0.095371  0.963055\n",
      "476  0.537837  0.850852  0.113569  0.957371\n",
      "477  0.421205  0.883523  0.102975  0.957371\n",
      "478  0.474826  0.876420  0.098513  0.964831\n",
      "479  0.485637  0.870739  0.104856  0.960213\n",
      "480  0.452252  0.875000  0.095605  0.969094\n",
      "481  0.507532  0.862216  0.115125  0.958792\n",
      "482  0.572952  0.833807  0.097296  0.967318\n",
      "483  0.437669  0.880682  0.108602  0.959858\n",
      "484  0.459232  0.867898  0.103733  0.957371\n",
      "485  0.487012  0.862216  0.102518  0.961279\n",
      "486  0.446702  0.882102  0.090976  0.968028\n",
      "487  0.596954  0.838068  0.113709  0.956306\n",
      "488  0.461590  0.875000  0.099229  0.965897\n",
      "489  0.469400  0.870739  0.107951  0.964476\n",
      "490  0.462026  0.872159  0.114623  0.960568\n",
      "491  0.474085  0.860795  0.101077  0.961634\n",
      "492  0.467545  0.862216  0.105479  0.961634\n",
      "493  0.450658  0.879261  0.094076  0.965187\n",
      "494  0.442481  0.882102  0.101516  0.963766\n",
      "495  0.499874  0.865057  0.094176  0.969449\n",
      "496  0.461545  0.873580  0.094811  0.965897\n",
      "497  0.535152  0.845170  0.117325  0.956306\n",
      "498  0.424899  0.880682  0.113499  0.959147\n",
      "499  0.418658  0.882102  0.098138  0.965897\n",
      "\n",
      "[500 rows x 4 columns]\n",
      "CPU times: user 15min 17s, sys: 1min 1s, total: 16min 19s\n",
      "Wall time: 5min 37s\n"
     ]
    }
   ],
   "source": [
    "%%time\n",
    "\n",
    "pipe2.fit(X_train, y_train)\n",
    "print(DataFrame(pipe2.history.history))\n",
    "ac_train2 = pipe2.history.history[\"acc\"]\n",
    "ac_val2 = pipe2.history.history[\"val_acc\"]\n",
    "epoch2 = np.arange(len(ac_train2)) + 1"
   ]
  },
  {
   "cell_type": "code",
   "execution_count": 17,
   "metadata": {},
   "outputs": [
    {
     "data": {
      "image/png": "[encoded data removed]",
      "text/plain": [
       "<Figure size 864x360 with 1 Axes>"
      ]
     },
     "metadata": {
      "needs_background": "light"
     },
     "output_type": "display_data"
    }
   ],
   "source": [
    "# Training Curves.\n",
    "plt.figure(figsize=(12, 5))\n",
    "plt.plot(epoch, ac_train, \".-b\", label=\"Train model 1\")\n",
    "plt.plot(epoch2, ac_train2, \".-g\", label=\"Train model 2\")\n",
    "plt.plot(epoch, ac_val, \"--b\", label=\"Validation  model 1\")\n",
    "plt.plot(epoch2, ac_val2, \"--g\", label=\"Validation  model 2\")\n",
    "plt.xlabel(\"Epoch\")\n",
    "plt.ylabel(\"Accuracy\")\n",
    "plt.legend()\n",
    "plt.grid();"
   ]
  }
 ],
 "metadata": {
  "kernelspec": {
   "display_name": "Python 3",
   "language": "python",
   "name": "python3"
  },
  "language_info": {
   "codemirror_mode": {
    "name": "ipython",
    "version": 3
   },
   "file_extension": ".py",
   "mimetype": "text/x-python",
   "name": "python",
   "nbconvert_exporter": "python",
   "pygments_lexer": "ipython3",
   "version": "3.6.8"
  }
 },
 "nbformat": 4,
 "nbformat_minor": 4
}
